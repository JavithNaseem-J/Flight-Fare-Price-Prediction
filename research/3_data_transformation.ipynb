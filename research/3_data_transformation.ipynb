{
 "cells": [
  {
   "cell_type": "code",
   "execution_count": 1,
   "metadata": {},
   "outputs": [],
   "source": [
    "import os"
   ]
  },
  {
   "cell_type": "code",
   "execution_count": 2,
   "metadata": {},
   "outputs": [
    {
     "data": {
      "text/plain": [
       "'f:\\\\Files\\\\DS&ML\\\\Flight-Fare-Price-Prediction\\\\research'"
      ]
     },
     "execution_count": 2,
     "metadata": {},
     "output_type": "execute_result"
    }
   ],
   "source": [
    "%pwd"
   ]
  },
  {
   "cell_type": "code",
   "execution_count": 3,
   "metadata": {},
   "outputs": [
    {
     "data": {
      "text/plain": [
       "'f:\\\\Files\\\\DS&ML\\\\Flight-Fare-Price-Prediction'"
      ]
     },
     "execution_count": 3,
     "metadata": {},
     "output_type": "execute_result"
    }
   ],
   "source": [
    "os.chdir('../')\n",
    "%pwd"
   ]
  },
  {
   "cell_type": "code",
   "execution_count": null,
   "metadata": {},
   "outputs": [],
   "source": [
    "from dataclasses import dataclass\n",
    "from pathlib import Path\n",
    "\n",
    "@dataclass(frozen=True)\n",
    "class DataTransformationConfig:\n",
    "    root_dir: Path\n",
    "    data_path: Path\n",
    "    target_column: str\n",
    "    preprocessor_path: Path"
   ]
  },
  {
   "cell_type": "code",
   "execution_count": 5,
   "metadata": {},
   "outputs": [
    {
     "name": "stdout",
     "output_type": "stream",
     "text": [
      "[2025-02-21 23:30:17,662 : INFO : __init__ : Logger has been set up successfully!]\n"
     ]
    }
   ],
   "source": [
    "from mlproject.constants import *\n",
    "from mlproject.utils.common import read_yaml,create_directories"
   ]
  },
  {
   "cell_type": "code",
   "execution_count": null,
   "metadata": {},
   "outputs": [],
   "source": [
    "class ConfigurationManager:\n",
    "    def __init__(\n",
    "        self,\n",
    "        config_filepath = CONFIG_FILE_PATH,\n",
    "        params_filepath = PARAMS_FILE_PATH,\n",
    "        schema_filepath = SCHEMA_FILE_PATH):\n",
    "\n",
    "        self.config = read_yaml(config_filepath)\n",
    "        self.params = read_yaml(params_filepath)\n",
    "        self.schema = read_yaml(schema_filepath)\n",
    "\n",
    "        create_directories([self.config.artifacts_root])\n",
    "\n",
    "    def get_data_transformation_config(self) -> DataTransformationConfig:\n",
    "        config = self.config.data_transformation\n",
    "        create_directories([config.root_dir])\n",
    "        data_transformation_config = DataTransformationConfig(\n",
    "        root_dir=config.root_dir,\n",
    "        data_path=config.data_path,\n",
    "        target_column=config.target_column,\n",
    "        preprocessor_path=config.preprocessor_path\n",
    "        )\n",
    "    \n",
    "        return data_transformation_config"
   ]
  },
  {
   "cell_type": "code",
   "execution_count": null,
   "metadata": {},
   "outputs": [],
   "source": [
    "import os\n",
    "import pandas as pd\n",
    "import numpy as np\n",
    "from sklearn.model_selection import train_test_split\n",
    "from sklearn.preprocessing import StandardScaler, OneHotEncoder\n",
    "from sklearn.compose import ColumnTransformer\n",
    "from sklearn.pipeline import Pipeline\n",
    "import joblib\n",
    "from mlproject import logger\n",
    "\n",
    "class DataTransformation:\n",
    "    def __init__(self, config):\n",
    "        self.config = config\n",
    "        self.columns_to_drop = ['Unnamed: 0', 'flight', 'duration']\n",
    "        self.target_column = 'price'\n",
    "\n",
    "    def train_test_spliting(self):\n",
    "        try:\n",
    "            data = pd.read_csv(self.config.data_path)\n",
    "            \n",
    "            # Drop specified columns\n",
    "            data.drop(self.columns_to_drop, axis=1, inplace=True)\n",
    "            logger.info(f\"Dropped columns: {self.columns_to_drop}\")\n",
    "            \n",
    "            train, test = train_test_split(data, test_size=0.25, random_state=42)\n",
    "\n",
    "            train_path = os.path.join(self.config.root_dir, \"train.csv\")\n",
    "            test_path = os.path.join(self.config.root_dir, \"test.csv\")\n",
    "            train.to_csv(train_path, index=False)\n",
    "            test.to_csv(test_path, index=False)\n",
    "\n",
    "            logger.info(\"Split data into training and test sets\")\n",
    "            logger.info(f\"Training data shape: {train.shape}\")\n",
    "            logger.info(f\"Test data shape: {test.shape}\")\n",
    "\n",
    "            return train, test\n",
    "            \n",
    "        except Exception as e:\n",
    "            logger.error(f\"Error in train_test_splitting: {e}\")\n",
    "            raise e\n",
    "    \n",
    "    def preprocess_features(self, train, test):\n",
    "        try:\n",
    "            # Identify numerical and categorical columns\n",
    "            numerical_columns = train.select_dtypes(include=[\"int64\", \"float64\"]).columns\n",
    "            categorical_columns = train.select_dtypes(include=[\"object\", \"category\"]).columns\n",
    "\n",
    "            # Exclude the target column from numerical columns\n",
    "            if self.target_column in numerical_columns:\n",
    "                numerical_columns = numerical_columns.drop(self.target_column)\n",
    "\n",
    "            logger.info(f\"Numerical columns: {list(numerical_columns)}\")\n",
    "            logger.info(f\"Categorical columns: {list(categorical_columns)}\")\n",
    "\n",
    "            # Preprocessing pipelines\n",
    "            num_pipeline = Pipeline(steps=[\n",
    "                (\"scaler\", StandardScaler())\n",
    "            ])\n",
    "            cat_pipeline = Pipeline(steps=[\n",
    "                (\"encoder\", OneHotEncoder(handle_unknown=\"ignore\", sparse_output=False))\n",
    "            ])\n",
    "            \n",
    "            preprocessor = ColumnTransformer(\n",
    "                transformers=[\n",
    "                    (\"num\", num_pipeline, numerical_columns),\n",
    "                    (\"cat\", cat_pipeline, categorical_columns)\n",
    "                ],\n",
    "                remainder=\"passthrough\"\n",
    "            )\n",
    "\n",
    "            # Separate features and target\n",
    "            train_x = train.drop(columns=[self.target_column])\n",
    "            test_x = test.drop(columns=[self.target_column])\n",
    "            train_y = train[self.target_column]\n",
    "            test_y = test[self.target_column]\n",
    "\n",
    "            # Fit preprocessor and transform features\n",
    "            train_processed = preprocessor.fit_transform(train_x)\n",
    "            test_processed = preprocessor.transform(test_x)\n",
    "\n",
    "            # Ensure target is 2D array\n",
    "            train_y = train_y.values.reshape(-1, 1)\n",
    "            test_y = test_y.values.reshape(-1, 1)\n",
    "\n",
    "            # Combine processed features with target\n",
    "            train_combined = np.hstack((train_processed, train_y))\n",
    "            test_combined = np.hstack((test_processed, test_y))\n",
    "\n",
    "            # Save preprocessor\n",
    "            joblib.dump(preprocessor, self.config.preprocessor_path)\n",
    "            logger.info(f\"Preprocessor saved at {self.config.preprocessor_path}\")\n",
    "\n",
    "            # Save processed data\n",
    "            np.save(os.path.join(self.config.root_dir, \"train_processed.npy\"), train_combined)\n",
    "            np.save(os.path.join(self.config.root_dir, \"test_processed.npy\"), test_combined)\n",
    "\n",
    "            logger.info(\"Preprocessed train and test data saved successfully.\")\n",
    "            return train_processed, test_processed\n",
    "\n",
    "        except Exception as e:\n",
    "            logger.error(f\"Error in preprocess_features: {e}\")\n",
    "            raise e"
   ]
  },
  {
   "cell_type": "code",
   "execution_count": 8,
   "metadata": {},
   "outputs": [
    {
     "name": "stdout",
     "output_type": "stream",
     "text": [
      "[2025-02-21 23:30:20,148 : INFO : common : yaml file: config\\config.yaml loaded successfully]\n",
      "[2025-02-21 23:30:20,154 : INFO : common : yaml file: params.yaml loaded successfully]\n",
      "[2025-02-21 23:30:20,159 : INFO : common : yaml file: schema.yaml loaded successfully]\n",
      "[2025-02-21 23:30:20,162 : INFO : common : created directory at: artifacts]\n",
      "[2025-02-21 23:30:20,164 : INFO : common : created directory at: artifacts/data_transformation]\n"
     ]
    },
    {
     "name": "stderr",
     "output_type": "stream",
     "text": [
      "Error in preprocess_data: 'TotalCharges'\n",
      "Error in train_test_spliting: 'TotalCharges'\n",
      "Missing key in configuration: 'TotalCharges'\n"
     ]
    }
   ],
   "source": [
    "try:\n",
    "    config = ConfigurationManager()\n",
    "    data_transformation_config = config.get_data_transformation_config()\n",
    "    data_transformation = DataTransformation(config=data_transformation_config)\n",
    "    train,test = data_transformation.train_test_spliting()\n",
    "    train_processed, test_processed = data_transformation.preprocess_features(train, test)\n",
    "\n",
    "except FileNotFoundError as e:\n",
    "    logger.error(f\"File not found: {e}\")\n",
    "except KeyError as e:\n",
    "    logger.error(f\"Missing key in configuration: {e}\")\n",
    "except Exception as e:\n",
    "    logger.error(f\"Unexpected error: {e}\")"
   ]
  }
 ],
 "metadata": {
  "kernelspec": {
   "display_name": "mlproject",
   "language": "python",
   "name": "python3"
  },
  "language_info": {
   "codemirror_mode": {
    "name": "ipython",
    "version": 3
   },
   "file_extension": ".py",
   "mimetype": "text/x-python",
   "name": "python",
   "nbconvert_exporter": "python",
   "pygments_lexer": "ipython3",
   "version": "3.10.16"
  }
 },
 "nbformat": 4,
 "nbformat_minor": 2
}
