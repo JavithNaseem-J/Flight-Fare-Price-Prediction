{
 "cells": [
  {
   "cell_type": "code",
   "execution_count": 1,
   "metadata": {},
   "outputs": [],
   "source": [
    "import os"
   ]
  },
  {
   "cell_type": "code",
   "execution_count": 2,
   "metadata": {},
   "outputs": [
    {
     "data": {
      "text/plain": [
       "'f:\\\\Files\\\\DS&ML\\\\Flight-Fare-Price-Prediction\\\\research'"
      ]
     },
     "execution_count": 2,
     "metadata": {},
     "output_type": "execute_result"
    }
   ],
   "source": [
    "%pwd"
   ]
  },
  {
   "cell_type": "code",
   "execution_count": 3,
   "metadata": {},
   "outputs": [
    {
     "data": {
      "text/plain": [
       "'f:\\\\Files\\\\DS&ML\\\\Flight-Fare-Price-Prediction'"
      ]
     },
     "execution_count": 3,
     "metadata": {},
     "output_type": "execute_result"
    }
   ],
   "source": [
    "os.chdir('../')\n",
    "%pwd"
   ]
  },
  {
   "cell_type": "code",
   "execution_count": 4,
   "metadata": {},
   "outputs": [],
   "source": [
    "from dataclasses import dataclass\n",
    "from pathlib import Path\n",
    "\n",
    "@dataclass\n",
    "class ModelTrainerConfig:\n",
    "    root_dir: Path\n",
    "    train_data_path: Path\n",
    "    test_data_path: Path\n",
    "    model_name: str\n",
    "    learning_rate: float\n",
    "    n_estimators: int\n",
    "    max_depth: int\n",
    "    min_child_weight: int\n",
    "    gamma: float\n",
    "    subsample: float\n",
    "    colsample_bytree: float\n",
    "    reg_alpha: float\n",
    "    reg_lambda: float\n",
    "    target_column: str\n",
    "    "
   ]
  },
  {
   "cell_type": "code",
   "execution_count": 5,
   "metadata": {},
   "outputs": [
    {
     "name": "stdout",
     "output_type": "stream",
     "text": [
      "[2025-02-21 23:34:35,042 : INFO : __init__ : Logger has been set up successfully!]\n"
     ]
    }
   ],
   "source": [
    "from mlproject.constants import *\n",
    "from mlproject.utils.common import read_yaml,create_directories"
   ]
  },
  {
   "cell_type": "code",
   "execution_count": 6,
   "metadata": {},
   "outputs": [],
   "source": [
    "class ConfigurationManager:\n",
    "    def __init__(\n",
    "        self,\n",
    "        config_filepath = CONFIG_FILE_PATH,\n",
    "        params_filepath = PARAMS_FILE_PATH,\n",
    "        schema_filepath = SCHEMA_FILE_PATH):\n",
    "\n",
    "        self.config = read_yaml(config_filepath)\n",
    "        self.params = read_yaml(params_filepath)\n",
    "        self.schema = read_yaml(schema_filepath)\n",
    "\n",
    "        create_directories([self.config.artifacts_root])\n",
    "\n",
    "\n",
    "    def get_model_trainer_config(self) -> ModelTrainerConfig:\n",
    "        config = self.config.model_trainer\n",
    "        params = self.params.XGBRegressor\n",
    "        schema =  self.schema.TARGET_COLUMN\n",
    "\n",
    "        create_directories([config.root_dir])\n",
    "\n",
    "        model_trainer_config = ModelTrainerConfig(\n",
    "            root_dir=config.root_dir,\n",
    "            train_data_path = config.train_data_path,\n",
    "            test_data_path = config.test_data_path,\n",
    "            model_name = config.model_name,\n",
    "            learning_rate=params.learning_rate,\n",
    "            n_estimators=params.n_estimators,\n",
    "            max_depth=params.max_depth,\n",
    "            min_child_weight=params.min_child_weight,\n",
    "            gamma=params.gamma,\n",
    "            subsample=params.subsample,\n",
    "            colsample_bytree=params.colsample_bytree,\n",
    "            reg_alpha=params.reg_alpha,\n",
    "            reg_lambda=params.reg_lambda,\n",
    "            target_column = schema.name\n",
    "        )\n",
    "\n",
    "        return model_trainer_config"
   ]
  },
  {
   "cell_type": "code",
   "execution_count": 7,
   "metadata": {},
   "outputs": [],
   "source": [
    "from xgboost import XGBRegressor\n",
    "from mlproject import logger\n",
    "import pandas as pd\n",
    "import joblib\n",
    "import numpy as np"
   ]
  },
  {
   "cell_type": "code",
   "execution_count": 8,
   "metadata": {},
   "outputs": [],
   "source": [
    "class ModelTrainer:\n",
    "    def __init__(self, config: ModelTrainerConfig):\n",
    "        self.config = config\n",
    "\n",
    "    def train(self):\n",
    "        # Validate file paths\n",
    "        if not os.path.exists(self.config.train_data_path):\n",
    "            raise FileNotFoundError(f\"Training data file not found at {self.config.train_data_path}\")\n",
    "        if not os.path.exists(self.config.test_data_path):\n",
    "            raise FileNotFoundError(f\"Testing data file not found at {self.config.test_data_path}\")\n",
    "\n",
    "        # Load the data\n",
    "        train_data = np.load(self.config.train_data_path, allow_pickle=True)\n",
    "        test_data = np.load(self.config.test_data_path, allow_pickle=True)\n",
    "\n",
    "        logger.info(f\"Loaded train data: type={type(train_data)}, shape={train_data.shape}\")\n",
    "        logger.info(f\"Loaded test data: type={type(test_data)}, shape={test_data.shape}\")\n",
    "\n",
    "        # Split features and target\n",
    "        train_x = train_data[:, :-1]  # All columns except the last one\n",
    "        train_y = train_data[:, -1]   # Only the last column\n",
    "        test_x = test_data[:, :-1]    # All columns except the last one\n",
    "        test_y = test_data[:, -1]     # Only the last column\n",
    "\n",
    "        logger.info(f\"Training data shape: X={train_x.shape}, y={train_y.shape}\")\n",
    "        logger.info(f\"Testing data shape: X={test_x.shape}, y={test_y.shape}\")\n",
    "\n",
    "        # Train the model\n",
    "        logger.info(\"Initializing XGBRegressor...\")\n",
    "        regressor = XGBRegressor(\n",
    "            learning_rate=self.config.learning_rate,\n",
    "            n_estimators=self.config.n_estimators,\n",
    "            max_depth=self.config.max_depth,\n",
    "            min_child_weight=self.config.min_child_weight,\n",
    "            gamma=self.config.gamma,\n",
    "            subsample=self.config.subsample,\n",
    "            colsample_bytree=self.config.colsample_bytree,\n",
    "            reg_alpha=self.config.reg_alpha,\n",
    "            reg_lambda=self.config.reg_lambda,\n",
    "            random_state=42\n",
    "        )\n",
    "        logger.info(\"Training the model...\")\n",
    "        regressor.fit(train_x, train_y)\n",
    "\n",
    "        # Save the trained model\n",
    "        model_path = os.path.join(self.config.root_dir, self.config.model_name)\n",
    "        joblib.dump(regressor, model_path)\n",
    "        logger.info(f\"Model saved successfully at {model_path}\")"
   ]
  },
  {
   "cell_type": "code",
   "execution_count": 9,
   "metadata": {},
   "outputs": [
    {
     "name": "stdout",
     "output_type": "stream",
     "text": [
      "[2025-02-21 23:34:36,743 : INFO : common : yaml file: config\\config.yaml loaded successfully]\n"
     ]
    },
    {
     "name": "stdout",
     "output_type": "stream",
     "text": [
      "[2025-02-21 23:34:36,748 : INFO : common : yaml file: params.yaml loaded successfully]\n",
      "[2025-02-21 23:34:36,752 : INFO : common : yaml file: schema.yaml loaded successfully]\n",
      "[2025-02-21 23:34:36,754 : INFO : common : created directory at: artifacts]\n",
      "[2025-02-21 23:34:36,755 : INFO : common : created directory at: artifacts/model_trainer]\n",
      "[2025-02-21 23:34:36,998 : INFO : 1420427480 : Loaded train data: type=<class 'numpy.ndarray'>, shape=(225114, 37)]\n",
      "[2025-02-21 23:34:37,002 : INFO : 1420427480 : Loaded test data: type=<class 'numpy.ndarray'>, shape=(75039, 37)]\n",
      "[2025-02-21 23:34:37,002 : INFO : 1420427480 : Training data shape: X=(225114, 36), y=(225114,)]\n",
      "[2025-02-21 23:34:37,002 : INFO : 1420427480 : Testing data shape: X=(75039, 36), y=(75039,)]\n",
      "[2025-02-21 23:34:37,004 : INFO : 1420427480 : Initializing XGBRegressor...]\n",
      "[2025-02-21 23:34:37,004 : INFO : 1420427480 : Training the model...]\n",
      "[2025-02-21 23:34:50,161 : INFO : 1420427480 : Model saved successfully at artifacts/model_trainer\\model.joblib]\n"
     ]
    }
   ],
   "source": [
    "try:\n",
    "    config = ConfigurationManager()\n",
    "    model_trainer_config = config.get_model_trainer_config()\n",
    "    model_trainer_config = ModelTrainer(config=model_trainer_config)\n",
    "    model_trainer_config.train()\n",
    "\n",
    "except FileNotFoundError as e:\n",
    "    logger.error(f\"File not found: {e}\")\n",
    "except KeyError as e:\n",
    "    logger.error(f\"Missing key in configuration: {e}\")\n",
    "except Exception as e:\n",
    "    logger.error(f\"Unexpected error: {e}\")"
   ]
  }
 ],
 "metadata": {
  "kernelspec": {
   "display_name": "mlproject",
   "language": "python",
   "name": "python3"
  },
  "language_info": {
   "codemirror_mode": {
    "name": "ipython",
    "version": 3
   },
   "file_extension": ".py",
   "mimetype": "text/x-python",
   "name": "python",
   "nbconvert_exporter": "python",
   "pygments_lexer": "ipython3",
   "version": "3.10.16"
  }
 },
 "nbformat": 4,
 "nbformat_minor": 2
}
