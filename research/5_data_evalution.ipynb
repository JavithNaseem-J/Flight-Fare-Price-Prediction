{
 "cells": [
  {
   "cell_type": "code",
   "execution_count": 1,
   "metadata": {},
   "outputs": [],
   "source": [
    "import os\n"
   ]
  },
  {
   "cell_type": "code",
   "execution_count": 2,
   "metadata": {},
   "outputs": [
    {
     "data": {
      "text/plain": [
       "'f:\\\\Files\\\\DS&ML\\\\Flight-Fare-Price-Prediction\\\\research'"
      ]
     },
     "execution_count": 2,
     "metadata": {},
     "output_type": "execute_result"
    }
   ],
   "source": [
    "%pwd"
   ]
  },
  {
   "cell_type": "code",
   "execution_count": 3,
   "metadata": {},
   "outputs": [],
   "source": [
    "os.chdir('../')"
   ]
  },
  {
   "cell_type": "code",
   "execution_count": 4,
   "metadata": {},
   "outputs": [
    {
     "data": {
      "text/plain": [
       "'f:\\\\Files\\\\DS&ML\\\\Flight-Fare-Price-Prediction'"
      ]
     },
     "execution_count": 4,
     "metadata": {},
     "output_type": "execute_result"
    }
   ],
   "source": [
    "%pwd"
   ]
  },
  {
   "cell_type": "code",
   "execution_count": 5,
   "metadata": {},
   "outputs": [],
   "source": [
    "from dataclasses import dataclass\n",
    "from pathlib import Path"
   ]
  },
  {
   "cell_type": "code",
   "execution_count": 6,
   "metadata": {},
   "outputs": [],
   "source": [
    "@dataclass\n",
    "class ModelEvaluationConfig:\n",
    "    root_dir:Path\n",
    "    model_path:Path\n",
    "    test_data_path:Path\n",
    "    all_params:dict\n",
    "    metric_file_path:Path\n",
    "    preprocessor_path: Path\n",
    "    target_column:str"
   ]
  },
  {
   "cell_type": "code",
   "execution_count": 7,
   "metadata": {},
   "outputs": [
    {
     "name": "stdout",
     "output_type": "stream",
     "text": [
      "[2025-02-21 23:34:57,994 : INFO : __init__ : Logger has been set up successfully!]\n"
     ]
    }
   ],
   "source": [
    "from mlproject.utils.common import *\n",
    "from mlproject.constants import *"
   ]
  },
  {
   "cell_type": "code",
   "execution_count": 8,
   "metadata": {},
   "outputs": [],
   "source": [
    "class ConfigurationManager:\n",
    "    def __init__(\n",
    "        self,\n",
    "        config_filepath=CONFIG_FILE_PATH,\n",
    "        params_filepath=PARAMS_FILE_PATH,\n",
    "        schema_filepath=SCHEMA_FILE_PATH,\n",
    "    ):\n",
    "        self.config = read_yaml(config_filepath)\n",
    "        self.params = read_yaml(params_filepath)\n",
    "        self.schema = read_yaml(schema_filepath)\n",
    "\n",
    "        create_directories([self.config[\"artifacts_root\"]])\n",
    "\n",
    "\n",
    "    def get_model_evaluation_config(self) -> ModelEvaluationConfig:\n",
    "        config = self.config[\"model_evaluation\"]\n",
    "        params = self.params[\"XGBRegressor\"]\n",
    "        schema = self.schema[\"TARGET_COLUMN\"]\n",
    "\n",
    "        create_directories([config.root_dir])\n",
    "\n",
    "        model_evaluation_config = ModelEvaluationConfig(\n",
    "            root_dir=config.root_dir,\n",
    "            test_data_path=config.test_data_path,\n",
    "            model_path=config.model_path,\n",
    "            all_params=params,\n",
    "            metric_file_path=config.metric_file_path,\n",
    "            preprocessor_path=config.preprocessor_path,\n",
    "            target_column=schema.name,\n",
    "        )\n",
    "        return model_evaluation_config"
   ]
  },
  {
   "cell_type": "code",
   "execution_count": 9,
   "metadata": {},
   "outputs": [],
   "source": [
    "from sklearn.metrics import mean_squared_error, mean_absolute_error, r2_score\n",
    "import pandas as pd\n",
    "import joblib\n",
    "import json\n",
    "import mlflow\n",
    "import mlflow.sklearn\n",
    "import dagshub"
   ]
  },
  {
   "cell_type": "code",
   "execution_count": 10,
   "metadata": {},
   "outputs": [],
   "source": [
    "class ModelEvaluation:\n",
    "    def __init__(self, config: ModelEvaluationConfig):\n",
    "        self.config = config\n",
    "\n",
    "        # Initialize MLflow tracking\n",
    "        os.environ['MLFLOW_TRACKING_USERNAME'] = \"JavithNaseem-J\"\n",
    "        os.environ['MLFLOW_TRACKING_PASSWORD'] = \"f86a04d73e27422c7a114f3f76b93fbc81a114fe\"\n",
    "        \n",
    "        dagshub.init(repo_owner=\"JavithNaseem-J\", repo_name=\"Laptop-Price-Prediction\")\n",
    "        mlflow.set_tracking_uri(\"https://dagshub.com/JavithNaseem-J/Laptop-Price-Prediction.mlflow\")\n",
    "        mlflow.set_experiment(\"Laptop Price Prediction\")\n",
    "\n",
    "    def evaluate(self):\n",
    "        try:\n",
    "            # Validate file paths\n",
    "            if not os.path.exists(self.config.test_data_path):\n",
    "                raise FileNotFoundError(f\"Test data file not found at {self.config.test_data_path}\")\n",
    "            if not os.path.exists(self.config.preprocessor_path):\n",
    "                raise FileNotFoundError(f\"Preprocessor file not found at {self.config.preprocessor_path}\")\n",
    "            if not os.path.exists(self.config.model_path):\n",
    "                raise FileNotFoundError(f\"Model file not found at {self.config.model_path}\")\n",
    "\n",
    "            with mlflow.start_run():\n",
    "                # Set tags for the run\n",
    "                mlflow.set_tag(\"model_type\", \"LGBMRegressor\")\n",
    "                mlflow.set_tag(\"evaluation_stage\", \"testing\")\n",
    "\n",
    "                # Load preprocessor and model\n",
    "                logger.info(\"Loading preprocessor and model...\")\n",
    "                preprocessor = joblib.load(self.config.preprocessor_path)\n",
    "                model = joblib.load(self.config.model_path)\n",
    "\n",
    "                # Log model parameters\n",
    "                mlflow.log_params(self.config.all_params)\n",
    "\n",
    "                # Load test data\n",
    "                logger.info(f\"Loading test data from {self.config.test_data_path}...\")\n",
    "                test_data = pd.read_csv(self.config.test_data_path)\n",
    "\n",
    "                # Extract target column\n",
    "                if self.config.target_column not in test_data.columns:\n",
    "                    raise KeyError(f\"Target column '{self.config.target_column}' not found in test data\")\n",
    "\n",
    "                test_y = test_data[self.config.target_column]\n",
    "                test_x = test_data.drop(columns=[self.config.target_column])\n",
    "\n",
    "                logger.info(f\"Test data shape: X={test_x.shape}, y={test_y.shape}\")\n",
    "\n",
    "                # Preprocess test features\n",
    "                logger.info(\"Preprocessing test features...\")\n",
    "                test_x_transformed = preprocessor.transform(test_x)\n",
    "\n",
    "                # Make predictions\n",
    "                logger.info(\"Making predictions on the test data...\")\n",
    "                predictions = model.predict(test_x_transformed)\n",
    "\n",
    "                # Calculate and log metrics\n",
    "                logger.info(\"Evaluating model performance...\")\n",
    "                mse = mean_squared_error(test_y, predictions)\n",
    "                mae = mean_absolute_error(test_y, predictions)\n",
    "                r2 = r2_score(test_y, predictions)\n",
    "                adjusted_r2 = 1 - (1 - r2) * ((test_x.shape[0] - 1) / (test_x.shape[0] - test_x.shape[1] - 1))\n",
    "\n",
    "                logger.info(f\"Model Evaluation Metrics:\\nMSE: {mse}\\nMAE: {mae}\\nR2: {r2}\\nAdjusted R2: {adjusted_r2}\")\n",
    "\n",
    "                # Save the evaluation metrics\n",
    "                metrics_path = os.path.join(self.config.root_dir, \"metrics.json\")\n",
    "                metrics = {\n",
    "                    \"mean_squared_error\": mse,\n",
    "                    \"mean_absolute_error\": mae,\n",
    "                    \"r2_score\": r2,\n",
    "                    \"adjusted_r2_score\": adjusted_r2\n",
    "                }\n",
    "                # Log metrics to MLflow\n",
    "                mlflow.log_metrics(metrics)\n",
    "\n",
    "                # Log model with signature\n",
    "                signature = mlflow.models.infer_signature(\n",
    "                    test_x_transformed, predictions\n",
    "                )\n",
    "                mlflow.sklearn.log_model(\n",
    "                    model,\n",
    "                    \"wine_quality_model\",\n",
    "                    signature=signature,\n",
    "                    registered_model_name=\"Flight Fare Prediction\"\n",
    "                )\n",
    "\n",
    "                logger.info(f\"Model Evaluation Metrics:\\naccuracy: {metrics['accuracy']}\\n\"\n",
    "                          f\"precision: {metrics['precision']}\\nrecall: {metrics['recall']}\\n\"\n",
    "                          f\"f1: {metrics['f1']}\")\n",
    "\n",
    "                # Save metrics locally\n",
    "                metrics_path = os.path.join(self.config.root_dir, \"metrics.json\")\n",
    "                with open(metrics_path, \"w\") as f:\n",
    "                    json.dump(metrics, f, indent=4)\n",
    "                logger.info(f\"Evaluation metrics saved at {metrics_path}\")\n",
    "\n",
    "                return metrics\n",
    "\n",
    "        except Exception as e:\n",
    "            logger.error(f\"Error in model evaluation: {str(e)}\")"
   ]
  },
  {
   "cell_type": "code",
   "execution_count": 11,
   "metadata": {},
   "outputs": [
    {
     "name": "stdout",
     "output_type": "stream",
     "text": [
      "[2025-02-21 23:35:04,147 : INFO : common : yaml file: config\\config.yaml loaded successfully]\n",
      "[2025-02-21 23:35:04,153 : INFO : common : yaml file: params.yaml loaded successfully]\n",
      "[2025-02-21 23:35:04,156 : INFO : common : yaml file: schema.yaml loaded successfully]\n",
      "[2025-02-21 23:35:04,158 : INFO : common : created directory at: artifacts]\n",
      "[2025-02-21 23:35:04,160 : INFO : common : created directory at: artifacts/model_evaluation]\n"
     ]
    },
    {
     "data": {
      "text/html": [
       "<pre style=\"white-space:pre;overflow-x:auto;line-height:normal;font-family:Menlo,'DejaVu Sans Mono',consolas,'Courier New',monospace\">Accessing as JavithNaseem-J\n",
       "</pre>\n"
      ],
      "text/plain": [
       "Accessing as JavithNaseem-J\n"
      ]
     },
     "metadata": {},
     "output_type": "display_data"
    },
    {
     "data": {
      "text/html": [
       "<pre style=\"white-space:pre;overflow-x:auto;line-height:normal;font-family:Menlo,'DejaVu Sans Mono',consolas,'Courier New',monospace\">Initialized MLflow to track repo <span style=\"color: #008000; text-decoration-color: #008000\">\"JavithNaseem-J/Laptop-Price-Prediction\"</span>\n",
       "</pre>\n"
      ],
      "text/plain": [
       "Initialized MLflow to track repo \u001b[32m\"JavithNaseem-J/Laptop-Price-Prediction\"\u001b[0m\n"
      ]
     },
     "metadata": {},
     "output_type": "display_data"
    },
    {
     "data": {
      "text/html": [
       "<pre style=\"white-space:pre;overflow-x:auto;line-height:normal;font-family:Menlo,'DejaVu Sans Mono',consolas,'Courier New',monospace\">Repository JavithNaseem-J/Laptop-Price-Prediction initialized!\n",
       "</pre>\n"
      ],
      "text/plain": [
       "Repository JavithNaseem-J/Laptop-Price-Prediction initialized!\n"
      ]
     },
     "metadata": {},
     "output_type": "display_data"
    },
    {
     "name": "stdout",
     "output_type": "stream",
     "text": [
      "[2025-02-21 23:35:07,527 : INFO : 2610076619 : Loading preprocessor and model...]\n",
      "[2025-02-21 23:35:09,036 : INFO : 2610076619 : Loading test data from artifacts/data_transformation/test.csv...]\n",
      "[2025-02-21 23:35:09,225 : INFO : 2610076619 : Test data shape: X=(75039, 8), y=(75039,)]\n",
      "[2025-02-21 23:35:09,226 : INFO : 2610076619 : Preprocessing test features...]\n",
      "[2025-02-21 23:35:09,397 : INFO : 2610076619 : Making predictions on the test data...]\n",
      "[2025-02-21 23:35:09,757 : INFO : 2610076619 : Evaluating model performance...]\n",
      "[2025-02-21 23:35:09,773 : INFO : 2610076619 : Model Evaluation Metrics:\n",
      "MSE: 14129786.0\n",
      "MAE: 1995.400634765625\n",
      "R2: 0.9725964069366455\n",
      "Adjusted R2: 0.9725934850554713]\n"
     ]
    },
    {
     "name": "stderr",
     "output_type": "stream",
     "text": [
      "Registered model 'Flight Fare Prediction' already exists. Creating a new version of this model...\n",
      "2025/02/21 23:35:28 INFO mlflow.store.model_registry.abstract_store: Waiting up to 300 seconds for model version to finish creation. Model name: Flight Fare Prediction, version 7\n",
      "Created version '7' of model 'Flight Fare Prediction'.\n"
     ]
    },
    {
     "name": "stdout",
     "output_type": "stream",
     "text": [
      "🏃 View run debonair-seal-555 at: https://dagshub.com/JavithNaseem-J/Laptop-Price-Prediction.mlflow/#/experiments/0/runs/c2f6a022e4b44503bbd7ed4daa47bfed\n",
      "🧪 View experiment at: https://dagshub.com/JavithNaseem-J/Laptop-Price-Prediction.mlflow/#/experiments/0\n",
      "[2025-02-21 23:35:28,787 : ERROR : 2610076619 : Error in model evaluation: 'accuracy']\n"
     ]
    }
   ],
   "source": [
    "try:\n",
    "    config = ConfigurationManager()\n",
    "    model_evaluation_config = config.get_model_evaluation_config()\n",
    "    model_evaluation = ModelEvaluation(config=model_evaluation_config)\n",
    "    metrics = model_evaluation.evaluate()\n",
    "\n",
    "except FileNotFoundError as e:\n",
    "    logger.error(f\"File not found: {e}\")\n",
    "except KeyError as e:\n",
    "    logger.error(f\"Missing key in configuration or data: {e}\")\n",
    "except Exception as e:\n",
    "    logger.error(f\"Unexpected error: {e}\")"
   ]
  },
  {
   "cell_type": "markdown",
   "metadata": {},
   "source": []
  }
 ],
 "metadata": {
  "kernelspec": {
   "display_name": "mlproject",
   "language": "python",
   "name": "python3"
  },
  "language_info": {
   "codemirror_mode": {
    "name": "ipython",
    "version": 3
   },
   "file_extension": ".py",
   "mimetype": "text/x-python",
   "name": "python",
   "nbconvert_exporter": "python",
   "pygments_lexer": "ipython3",
   "version": "3.10.16"
  }
 },
 "nbformat": 4,
 "nbformat_minor": 2
}
